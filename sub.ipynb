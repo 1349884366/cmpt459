{
 "nbformat": 4,
 "nbformat_minor": 2,
 "metadata": {
  "language_info": {
   "name": "python",
   "codemirror_mode": {
    "name": "ipython",
    "version": 3
   },
   "version": "3.6.9-final"
  },
  "orig_nbformat": 2,
  "file_extension": ".py",
  "mimetype": "text/x-python",
  "name": "python",
  "npconvert_exporter": "python",
  "pygments_lexer": "ipython3",
  "version": 3,
  "kernelspec": {
   "name": "python36964bita75e5940641f477dab7d4f1bfa5dd982",
   "display_name": "Python 3.6.9 64-bit"
  }
 },
 "cells": [
  {
   "cell_type": "code",
   "execution_count": 1,
   "metadata": {},
   "outputs": [],
   "source": [
    "import pandas as pd\n",
    "from sklearn.tree import DecisionTreeClassifier\n",
    "from sklearn.svm import SVC\n",
    "from sklearn.linear_model import LogisticRegression\n",
    "from sklearn.model_selection import train_test_split\n",
    "from sklearn import metrics\n",
    "import json\n",
    "from sklearn.tree import export_graphviz\n",
    "from sklearn.externals.six import StringIO  \n",
    "from IPython.display import Image  \n",
    "import pydotplus\n",
    "from sklearn.model_selection import KFold\n",
    "import numpy as np"
   ]
  },
  {
   "cell_type": "code",
   "execution_count": 2,
   "metadata": {},
   "outputs": [],
   "source": [
    "with open('train.json') as f:\n",
    "    data = json.load(f)\n",
    "    \n",
    "with open('test.json') as f:\n",
    "    test = json.load(f)\n",
    "\n",
    "price = data['price']\n",
    "latitude = data['latitude']\n",
    "longitude = data['longitude']\n",
    "time = data['created']\n",
    "\n",
    "time_t = test['created']\n",
    "\n",
    "new_time = time\n",
    "for keys in time:\n",
    "    new_time[keys] = time[keys][11] + time[keys][12]\n",
    "\n",
    "for keys in new_time:\n",
    "    tmp = int(new_time[keys])\n",
    "    new_time[keys] = tmp"
   ]
  },
  {
   "cell_type": "code",
   "execution_count": 3,
   "metadata": {},
   "outputs": [],
   "source": [
    "new_time_t = time_t\n",
    "for keys in time_t:\n",
    "    new_time_t[keys] = time_t[keys][11] + time_t[keys][12]\n",
    "\n",
    "for keys in new_time_t:\n",
    "    tmp = int(new_time_t[keys])\n",
    "    new_time_t[keys] = tmp\n",
    "    "
   ]
  },
  {
   "cell_type": "code",
   "execution_count": 4,
   "metadata": {},
   "outputs": [],
   "source": [
    "test = pd.DataFrame(test)"
   ]
  },
  {
   "cell_type": "code",
   "execution_count": 5,
   "metadata": {},
   "outputs": [],
   "source": [
    "def get_bounds(variable):\n",
    "    values = list(variable.values())\n",
    "    values.sort()\n",
    "    length = len(values)\n",
    "    inedx= int((length - 1)/4)\n",
    "    q1 = (values[inedx] + values[inedx + 1])/2\n",
    "    inedx = int((length - 1)*3/4)\n",
    "    q3 = (values[inedx] + values[inedx + 1])/2\n",
    "    iqr = q3 - q1\n",
    "    lower_bound = q1 - 1.5*iqr            #100\n",
    "    upper_bound = q3 + 1.5*iqr\n",
    "    \n",
    "    return lower_bound, upper_bound\t"
   ]
  },
  {
   "cell_type": "code",
   "execution_count": 6,
   "metadata": {},
   "outputs": [],
   "source": [
    "def dist2place(lat,lon):\n",
    "    place = {'ny' : [40.78,73.97],'hells':[40.7622,73.9924],'flatiron' : [40.7413,73.9893], 'greenwich': [40.7326,74.0012],'brooklyn': [40.6960,73.9963],'prospect': [40.6779,73.9694],'noho': [40.7272,73.9934],'soho': [40.7241,74.0011], 'gramercy': [40.7362,73.9839],'murray' :[40.7486,73.9764],'financial': [40.7092,74.0106],'kips': [40.7419,73.9778],'dumbo': [40.7032,73.9884],'nolita': [40.7226,73.9952],'battery' : [40.7127,74.0161],'tribeca' : [40.718,74.008531],'gowanus': [40.6749,73.9904],'bronx': [40.8565,73.8704],'station': [40.7527,73.9760],'kennedy': [40.6457,73.7759],'newark': [40.6899,74.1737],'mroosevelt': [40.7466,73.8909],'beach': [40.5846,73.7099],'water_lat': [40.7029,73.7058]}\n",
    "    lst = []\n",
    "    for i in place:\n",
    "        p_lat = place[i][0]\n",
    "        p_lon = place[i][1]\n",
    "        x = (p_lat - lat)\n",
    "        y = (p_lon + lon)\n",
    "        x = x*x\n",
    "        y = y*y\n",
    "        tmp = x+y\n",
    "        dist = np.sqrt(tmp)\n",
    "        lst.append(dist)\n",
    "    lst =np.array(lst)\n",
    "    tp = lst.transpose()\n",
    "    min_lst = []\n",
    "    for x in tp:\n",
    "        min_dist =  min(x)\n",
    "        min_lst.append(min_dist)\n",
    "    return min_lst"
   ]
  },
  {
   "cell_type": "code",
   "execution_count": 7,
   "metadata": {},
   "outputs": [],
   "source": [
    "data=pd.DataFrame(data)"
   ]
  },
  {
   "cell_type": "code",
   "execution_count": 8,
   "metadata": {},
   "outputs": [],
   "source": [
    "filter_missing_data = data[(data['features'].map(lambda d: len(d)) != 0) & (data['latitude'].map(lambda d: d) != 0) & (data['longitude'].map(lambda d: d) != 0)]\n",
    "lower_bound,upper_bound = get_bounds(price)\n",
    "filter_price_outlier_data = filter_missing_data[(filter_missing_data['price'] > lower_bound) & (filter_missing_data['price'] < upper_bound)]\n",
    "filter_latitude_outlier_data = filter_price_outlier_data[(filter_price_outlier_data['latitude'].map(lambda d: d >= 40))]\n",
    "filter_longitude_outlier_data = filter_latitude_outlier_data[(filter_latitude_outlier_data['longitude'].map(lambda d: d >= -79.8 and d <= -73.3))]"
   ]
  },
  {
   "cell_type": "code",
   "execution_count": 9,
   "metadata": {},
   "outputs": [],
   "source": [
    "data = filter_longitude_outlier_data"
   ]
  },
  {
   "cell_type": "code",
   "execution_count": 10,
   "metadata": {},
   "outputs": [],
   "source": [
    "data[\"num_photos\"] = data[\"photos\"].apply(len)\n",
    "data[\"num_features\"] = data[\"features\"].apply(len)\n",
    "data['street_address'] = data['street_address'].astype('category').cat.codes\n",
    "data['building_id']=data['building_id'].astype('category').cat.codes\n",
    "data['display_address'] = data['display_address'].astype('category').cat.codes\n",
    "data['manager_id']=data['manager_id'].astype('category').cat.codes\n",
    "data['interest_level']=data['interest_level'].astype('category').cat.codes\n",
    "data['Distance'] = dist2place(data['latitude'], data['longitude'])"
   ]
  },
  {
   "cell_type": "code",
   "execution_count": 11,
   "metadata": {},
   "outputs": [
    {
     "data": {
      "text/html": "<div>\n<style scoped>\n    .dataframe tbody tr th:only-of-type {\n        vertical-align: middle;\n    }\n\n    .dataframe tbody tr th {\n        vertical-align: top;\n    }\n\n    .dataframe thead th {\n        text-align: right;\n    }\n</style>\n<table border=\"1\" class=\"dataframe\">\n  <thead>\n    <tr style=\"text-align: right;\">\n      <th></th>\n      <th>bathrooms</th>\n      <th>bedrooms</th>\n      <th>building_id</th>\n      <th>created</th>\n      <th>description</th>\n      <th>display_address</th>\n      <th>features</th>\n      <th>latitude</th>\n      <th>listing_id</th>\n      <th>longitude</th>\n      <th>manager_id</th>\n      <th>photos</th>\n      <th>price</th>\n      <th>street_address</th>\n      <th>interest_level</th>\n      <th>num_photos</th>\n      <th>num_features</th>\n      <th>Distance</th>\n    </tr>\n  </thead>\n  <tbody>\n    <tr>\n      <th>0</th>\n      <td>1.0</td>\n      <td>1</td>\n      <td>3410</td>\n      <td>5</td>\n      <td>Spacious 1 Bedroom 1 Bathroom in Williamsburg!...</td>\n      <td>732</td>\n      <td>[Dining Room, Pre-War, Laundry in Building, Di...</td>\n      <td>40.7108</td>\n      <td>7170325</td>\n      <td>-73.9539</td>\n      <td>2038</td>\n      <td>[https://photos.renthop.com/2/7170325_3bb5ac84...</td>\n      <td>2400</td>\n      <td>1680</td>\n      <td>2</td>\n      <td>12</td>\n      <td>7</td>\n      <td>0.035327</td>\n    </tr>\n    <tr>\n      <th>1</th>\n      <td>1.0</td>\n      <td>2</td>\n      <td>4765</td>\n      <td>5</td>\n      <td>BRAND NEW GUT RENOVATED TRUE 2 BEDROOMFind you...</td>\n      <td>4770</td>\n      <td>[Doorman, Elevator, Laundry in Building, Dishw...</td>\n      <td>40.7513</td>\n      <td>7092344</td>\n      <td>-73.9722</td>\n      <td>1896</td>\n      <td>[https://photos.renthop.com/2/7092344_7663c19a...</td>\n      <td>3800</td>\n      <td>4588</td>\n      <td>1</td>\n      <td>6</td>\n      <td>6</td>\n      <td>0.004050</td>\n    </tr>\n    <tr>\n      <th>2</th>\n      <td>1.0</td>\n      <td>2</td>\n      <td>5285</td>\n      <td>15</td>\n      <td>**FLEX 2 BEDROOM WITH FULL PRESSURIZED WALL**L...</td>\n      <td>4796</td>\n      <td>[Doorman, Elevator, Laundry in Building, Laund...</td>\n      <td>40.7575</td>\n      <td>7158677</td>\n      <td>-73.9625</td>\n      <td>2561</td>\n      <td>[https://photos.renthop.com/2/7158677_c897a134...</td>\n      <td>3495</td>\n      <td>8580</td>\n      <td>2</td>\n      <td>6</td>\n      <td>6</td>\n      <td>0.014328</td>\n    </tr>\n    <tr>\n      <th>3</th>\n      <td>1.0</td>\n      <td>0</td>\n      <td>4939</td>\n      <td>3</td>\n      <td>Over-sized Studio w abundant closets. Availabl...</td>\n      <td>4736</td>\n      <td>[Doorman, Elevator, Fitness Center, Laundry in...</td>\n      <td>40.7439</td>\n      <td>7225292</td>\n      <td>-73.9743</td>\n      <td>592</td>\n      <td>[https://photos.renthop.com/2/7225292_901f1984...</td>\n      <td>2795</td>\n      <td>7582</td>\n      <td>1</td>\n      <td>4</td>\n      <td>4</td>\n      <td>0.004031</td>\n    </tr>\n    <tr>\n      <th>4</th>\n      <td>2.0</td>\n      <td>3</td>\n      <td>326</td>\n      <td>6</td>\n      <td>AMAZING DEAL!! BRAND NEW RENOVATIONS IN THIS H...</td>\n      <td>4663</td>\n      <td>[Fireplace, Laundry in Unit, Dishwasher, Hardw...</td>\n      <td>40.7302</td>\n      <td>7126989</td>\n      <td>-73.9826</td>\n      <td>2009</td>\n      <td>[https://photos.renthop.com/2/7126989_a74ab3da...</td>\n      <td>6000</td>\n      <td>8696</td>\n      <td>1</td>\n      <td>7</td>\n      <td>5</td>\n      <td>0.006139</td>\n    </tr>\n    <tr>\n      <th>...</th>\n      <td>...</td>\n      <td>...</td>\n      <td>...</td>\n      <td>...</td>\n      <td>...</td>\n      <td>...</td>\n      <td>...</td>\n      <td>...</td>\n      <td>...</td>\n      <td>...</td>\n      <td>...</td>\n      <td>...</td>\n      <td>...</td>\n      <td>...</td>\n      <td>...</td>\n      <td>...</td>\n      <td>...</td>\n      <td>...</td>\n    </tr>\n    <tr>\n      <th>43205</th>\n      <td>1.0</td>\n      <td>3</td>\n      <td>3750</td>\n      <td>3</td>\n      <td>There is 700 square feet of recently renovated...</td>\n      <td>6370</td>\n      <td>[Elevator, Dishwasher, Hardwood Floors]</td>\n      <td>40.8433</td>\n      <td>6824800</td>\n      <td>-73.9396</td>\n      <td>2100</td>\n      <td>[https://photos.renthop.com/2/6824800_0682be16...</td>\n      <td>2800</td>\n      <td>11238</td>\n      <td>1</td>\n      <td>5</td>\n      <td>3</td>\n      <td>0.070221</td>\n    </tr>\n    <tr>\n      <th>43206</th>\n      <td>1.0</td>\n      <td>2</td>\n      <td>2149</td>\n      <td>2</td>\n      <td>2 bedroom apartment with updated kitchen, rece...</td>\n      <td>3614</td>\n      <td>[Common Outdoor Space, Cats Allowed, Dogs Allo...</td>\n      <td>40.8198</td>\n      <td>6813268</td>\n      <td>-73.9578</td>\n      <td>1816</td>\n      <td>[https://photos.renthop.com/2/6813268_1e6fcc32...</td>\n      <td>2395</td>\n      <td>7370</td>\n      <td>2</td>\n      <td>5</td>\n      <td>7</td>\n      <td>0.041628</td>\n    </tr>\n    <tr>\n      <th>43207</th>\n      <td>1.0</td>\n      <td>1</td>\n      <td>2631</td>\n      <td>5</td>\n      <td>No Brokers Fee * Never Lived 1 Bedroom 1 Bathr...</td>\n      <td>1177</td>\n      <td>[Dining Room, Elevator, Pre-War, Laundry in Bu...</td>\n      <td>40.5765</td>\n      <td>6927093</td>\n      <td>-73.9554</td>\n      <td>2038</td>\n      <td>[https://photos.renthop.com/2/6927093_93a52104...</td>\n      <td>1850</td>\n      <td>3707</td>\n      <td>2</td>\n      <td>3</td>\n      <td>11</td>\n      <td>0.102362</td>\n    </tr>\n    <tr>\n      <th>43208</th>\n      <td>1.0</td>\n      <td>2</td>\n      <td>1523</td>\n      <td>2</td>\n      <td>Wonderful Bright Chelsea 2 Bedroom apartment o...</td>\n      <td>7128</td>\n      <td>[Pre-War, Laundry in Unit, Dishwasher, No Fee,...</td>\n      <td>40.7448</td>\n      <td>6892816</td>\n      <td>-74.0017</td>\n      <td>2494</td>\n      <td>[https://photos.renthop.com/2/6892816_1a8d087a...</td>\n      <td>4195</td>\n      <td>7877</td>\n      <td>2</td>\n      <td>5</td>\n      <td>5</td>\n      <td>0.012210</td>\n    </tr>\n    <tr>\n      <th>43209</th>\n      <td>1.0</td>\n      <td>3</td>\n      <td>5591</td>\n      <td>5</td>\n      <td>***PRIME MIDTOWN EAST OFF PARK AVE***TRUE 3 BE...</td>\n      <td>4223</td>\n      <td>[Dining Room, Elevator, Laundry in Building, D...</td>\n      <td>40.7594</td>\n      <td>6901023</td>\n      <td>-73.9712</td>\n      <td>2955</td>\n      <td>[https://photos.renthop.com/2/6901023_02052d90...</td>\n      <td>4280</td>\n      <td>1071</td>\n      <td>0</td>\n      <td>8</td>\n      <td>6</td>\n      <td>0.008242</td>\n    </tr>\n  </tbody>\n</table>\n<p>43210 rows × 18 columns</p>\n</div>",
      "text/plain": "       bathrooms  bedrooms  building_id  created  \\\n0            1.0         1         3410        5   \n1            1.0         2         4765        5   \n2            1.0         2         5285       15   \n3            1.0         0         4939        3   \n4            2.0         3          326        6   \n...          ...       ...          ...      ...   \n43205        1.0         3         3750        3   \n43206        1.0         2         2149        2   \n43207        1.0         1         2631        5   \n43208        1.0         2         1523        2   \n43209        1.0         3         5591        5   \n\n                                             description  display_address  \\\n0      Spacious 1 Bedroom 1 Bathroom in Williamsburg!...              732   \n1      BRAND NEW GUT RENOVATED TRUE 2 BEDROOMFind you...             4770   \n2      **FLEX 2 BEDROOM WITH FULL PRESSURIZED WALL**L...             4796   \n3      Over-sized Studio w abundant closets. Availabl...             4736   \n4      AMAZING DEAL!! BRAND NEW RENOVATIONS IN THIS H...             4663   \n...                                                  ...              ...   \n43205  There is 700 square feet of recently renovated...             6370   \n43206  2 bedroom apartment with updated kitchen, rece...             3614   \n43207  No Brokers Fee * Never Lived 1 Bedroom 1 Bathr...             1177   \n43208  Wonderful Bright Chelsea 2 Bedroom apartment o...             7128   \n43209  ***PRIME MIDTOWN EAST OFF PARK AVE***TRUE 3 BE...             4223   \n\n                                                features  latitude  \\\n0      [Dining Room, Pre-War, Laundry in Building, Di...   40.7108   \n1      [Doorman, Elevator, Laundry in Building, Dishw...   40.7513   \n2      [Doorman, Elevator, Laundry in Building, Laund...   40.7575   \n3      [Doorman, Elevator, Fitness Center, Laundry in...   40.7439   \n4      [Fireplace, Laundry in Unit, Dishwasher, Hardw...   40.7302   \n...                                                  ...       ...   \n43205            [Elevator, Dishwasher, Hardwood Floors]   40.8433   \n43206  [Common Outdoor Space, Cats Allowed, Dogs Allo...   40.8198   \n43207  [Dining Room, Elevator, Pre-War, Laundry in Bu...   40.5765   \n43208  [Pre-War, Laundry in Unit, Dishwasher, No Fee,...   40.7448   \n43209  [Dining Room, Elevator, Laundry in Building, D...   40.7594   \n\n       listing_id  longitude  manager_id  \\\n0         7170325   -73.9539        2038   \n1         7092344   -73.9722        1896   \n2         7158677   -73.9625        2561   \n3         7225292   -73.9743         592   \n4         7126989   -73.9826        2009   \n...           ...        ...         ...   \n43205     6824800   -73.9396        2100   \n43206     6813268   -73.9578        1816   \n43207     6927093   -73.9554        2038   \n43208     6892816   -74.0017        2494   \n43209     6901023   -73.9712        2955   \n\n                                                  photos  price  \\\n0      [https://photos.renthop.com/2/7170325_3bb5ac84...   2400   \n1      [https://photos.renthop.com/2/7092344_7663c19a...   3800   \n2      [https://photos.renthop.com/2/7158677_c897a134...   3495   \n3      [https://photos.renthop.com/2/7225292_901f1984...   2795   \n4      [https://photos.renthop.com/2/7126989_a74ab3da...   6000   \n...                                                  ...    ...   \n43205  [https://photos.renthop.com/2/6824800_0682be16...   2800   \n43206  [https://photos.renthop.com/2/6813268_1e6fcc32...   2395   \n43207  [https://photos.renthop.com/2/6927093_93a52104...   1850   \n43208  [https://photos.renthop.com/2/6892816_1a8d087a...   4195   \n43209  [https://photos.renthop.com/2/6901023_02052d90...   4280   \n\n       street_address  interest_level  num_photos  num_features  Distance  \n0                1680               2          12             7  0.035327  \n1                4588               1           6             6  0.004050  \n2                8580               2           6             6  0.014328  \n3                7582               1           4             4  0.004031  \n4                8696               1           7             5  0.006139  \n...               ...             ...         ...           ...       ...  \n43205           11238               1           5             3  0.070221  \n43206            7370               2           5             7  0.041628  \n43207            3707               2           3            11  0.102362  \n43208            7877               2           5             5  0.012210  \n43209            1071               0           8             6  0.008242  \n\n[43210 rows x 18 columns]"
     },
     "execution_count": 11,
     "metadata": {},
     "output_type": "execute_result"
    }
   ],
   "source": [
    "data = data.reset_index(drop=True)"
   ]
  },
  {
   "cell_type": "code",
   "execution_count": 14,
   "metadata": {},
   "outputs": [],
   "source": [
    "test[\"num_photos\"] = test[\"photos\"].apply(len)\n",
    "test[\"num_features\"] = test[\"features\"].apply(len)\n",
    "test['street_address'] = test['street_address'].astype('category').cat.codes\n",
    "test['building_id']=test['building_id'].astype('category').cat.codes\n",
    "test['display_address'] = test['display_address'].astype('category').cat.codes\n",
    "test['manager_id']=test['manager_id'].astype('category').cat.codes\n",
    "# test['interest_level']=test['interest_level'].astype('category').cat.codes\n",
    "test['Distance'] = dist2place(test['latitude'], test['longitude'])"
   ]
  },
  {
   "cell_type": "code",
   "execution_count": 15,
   "metadata": {},
   "outputs": [
    {
     "data": {
      "text/html": "<div>\n<style scoped>\n    .dataframe tbody tr th:only-of-type {\n        vertical-align: middle;\n    }\n\n    .dataframe tbody tr th {\n        vertical-align: top;\n    }\n\n    .dataframe thead th {\n        text-align: right;\n    }\n</style>\n<table border=\"1\" class=\"dataframe\">\n  <thead>\n    <tr style=\"text-align: right;\">\n      <th></th>\n      <th>bathrooms</th>\n      <th>bedrooms</th>\n      <th>building_id</th>\n      <th>created</th>\n      <th>description</th>\n      <th>display_address</th>\n      <th>features</th>\n      <th>latitude</th>\n      <th>listing_id</th>\n      <th>longitude</th>\n      <th>manager_id</th>\n      <th>photos</th>\n      <th>price</th>\n      <th>street_address</th>\n      <th>num_photos</th>\n      <th>num_features</th>\n      <th>Distance</th>\n    </tr>\n  </thead>\n  <tbody>\n    <tr>\n      <th>0</th>\n      <td>1.0</td>\n      <td>1</td>\n      <td>4412</td>\n      <td>5</td>\n      <td>Large with awesome terrace--accessible via bed...</td>\n      <td>9506</td>\n      <td>[Elevator, Laundry in Building, Laundry in Uni...</td>\n      <td>40.7185</td>\n      <td>7142618</td>\n      <td>-73.9865</td>\n      <td>2694</td>\n      <td>[https://photos.renthop.com/2/7142618_1c45a2c8...</td>\n      <td>2950</td>\n      <td>18989</td>\n      <td>8</td>\n      <td>6</td>\n      <td>0.009618</td>\n    </tr>\n    <tr>\n      <th>1</th>\n      <td>1.0</td>\n      <td>2</td>\n      <td>0</td>\n      <td>6</td>\n      <td>Prime Soho - between Bleecker and Houston - Ne...</td>\n      <td>9589</td>\n      <td>[Pre-War, Dogs Allowed, Cats Allowed]</td>\n      <td>40.7278</td>\n      <td>7210040</td>\n      <td>-74.0000</td>\n      <td>3145</td>\n      <td>[https://photos.renthop.com/2/7210040_d824cc71...</td>\n      <td>2850</td>\n      <td>4161</td>\n      <td>3</td>\n      <td>3</td>\n      <td>0.003860</td>\n    </tr>\n    <tr>\n      <th>2</th>\n      <td>1.0</td>\n      <td>0</td>\n      <td>0</td>\n      <td>1</td>\n      <td>Spacious studio in Prime Location. Cleanbuildi...</td>\n      <td>9513</td>\n      <td>[Pre-War, Dogs Allowed, Cats Allowed]</td>\n      <td>40.7260</td>\n      <td>7174566</td>\n      <td>-74.0026</td>\n      <td>3467</td>\n      <td>[https://photos.renthop.com/2/7174566_ba3a35c5...</td>\n      <td>2295</td>\n      <td>1151</td>\n      <td>1</td>\n      <td>3</td>\n      <td>0.002421</td>\n    </tr>\n    <tr>\n      <th>3</th>\n      <td>1.0</td>\n      <td>2</td>\n      <td>9082</td>\n      <td>5</td>\n      <td>For immediate access call Bryan.&lt;br /&gt;&lt;br /&gt;Bo...</td>\n      <td>8437</td>\n      <td>[Hardwood Floors, Dogs Allowed, Cats Allowed]</td>\n      <td>40.7321</td>\n      <td>7191391</td>\n      <td>-74.0028</td>\n      <td>1007</td>\n      <td>[https://photos.renthop.com/2/7191391_8c2f2d49...</td>\n      <td>2900</td>\n      <td>6746</td>\n      <td>4</td>\n      <td>3</td>\n      <td>0.001676</td>\n    </tr>\n    <tr>\n      <th>4</th>\n      <td>1.0</td>\n      <td>1</td>\n      <td>4680</td>\n      <td>7</td>\n      <td>Beautiful TRUE 1 bedroom in a luxury building ...</td>\n      <td>8016</td>\n      <td>[Roof Deck, Doorman, Elevator, Fitness Center,...</td>\n      <td>40.7054</td>\n      <td>7171695</td>\n      <td>-74.0095</td>\n      <td>2521</td>\n      <td>[https://photos.renthop.com/2/7171695_089ffee2...</td>\n      <td>3254</td>\n      <td>4816</td>\n      <td>6</td>\n      <td>10</td>\n      <td>0.003956</td>\n    </tr>\n    <tr>\n      <th>...</th>\n      <td>...</td>\n      <td>...</td>\n      <td>...</td>\n      <td>...</td>\n      <td>...</td>\n      <td>...</td>\n      <td>...</td>\n      <td>...</td>\n      <td>...</td>\n      <td>...</td>\n      <td>...</td>\n      <td>...</td>\n      <td>...</td>\n      <td>...</td>\n      <td>...</td>\n      <td>...</td>\n      <td>...</td>\n    </tr>\n    <tr>\n      <th>74654</th>\n      <td>1.0</td>\n      <td>1</td>\n      <td>6889</td>\n      <td>16</td>\n      <td>BRAND NEW TO MARKET 1BDR \\r107TH AND LEXINGTON...</td>\n      <td>1336</td>\n      <td>[]</td>\n      <td>40.7925</td>\n      <td>6928108</td>\n      <td>-73.9454</td>\n      <td>1068</td>\n      <td>[https://photos.renthop.com/2/6928108_231eb983...</td>\n      <td>1700</td>\n      <td>3248</td>\n      <td>10</td>\n      <td>0</td>\n      <td>0.027594</td>\n    </tr>\n    <tr>\n      <th>74655</th>\n      <td>1.0</td>\n      <td>2</td>\n      <td>5268</td>\n      <td>5</td>\n      <td>Convertible 2BR apartment features a brand new...</td>\n      <td>6755</td>\n      <td>[Doorman, Elevator, Laundry in Building, Dishw...</td>\n      <td>40.7456</td>\n      <td>6906674</td>\n      <td>-73.9797</td>\n      <td>660</td>\n      <td>[https://photos.renthop.com/2/6906674_9fe899a8...</td>\n      <td>4195</td>\n      <td>2324</td>\n      <td>4</td>\n      <td>8</td>\n      <td>0.004159</td>\n    </tr>\n    <tr>\n      <th>74656</th>\n      <td>1.0</td>\n      <td>0</td>\n      <td>0</td>\n      <td>1</td>\n      <td>Let's get you in to see this $2,400/mo, recent...</td>\n      <td>8565</td>\n      <td>[Dogs Allowed, Cats Allowed]</td>\n      <td>40.7416</td>\n      <td>6897967</td>\n      <td>-73.9829</td>\n      <td>3467</td>\n      <td>[]</td>\n      <td>2400</td>\n      <td>18762</td>\n      <td>0</td>\n      <td>2</td>\n      <td>0.005109</td>\n    </tr>\n    <tr>\n      <th>74657</th>\n      <td>2.0</td>\n      <td>2</td>\n      <td>7301</td>\n      <td>2</td>\n      <td>CooperCooper.com :: Web ID #171357; Access 100...</td>\n      <td>9037</td>\n      <td>[Doorman, Elevator, Cats Allowed, Dogs Allowed]</td>\n      <td>40.7485</td>\n      <td>6842183</td>\n      <td>-73.9800</td>\n      <td>1653</td>\n      <td>[https://photos.renthop.com/2/6842183_b1fe51f4...</td>\n      <td>6895</td>\n      <td>12788</td>\n      <td>8</td>\n      <td>4</td>\n      <td>0.003601</td>\n    </tr>\n    <tr>\n      <th>74658</th>\n      <td>1.0</td>\n      <td>3</td>\n      <td>952</td>\n      <td>2</td>\n      <td>New renovated Bright 3Br Murray Hill. 3 QUEEN ...</td>\n      <td>6769</td>\n      <td>[Garden/Patio, Laundry in Unit, Dishwasher, Ha...</td>\n      <td>40.7447</td>\n      <td>6889319</td>\n      <td>-73.9741</td>\n      <td>3270</td>\n      <td>[https://photos.renthop.com/2/6889319_79f186e7...</td>\n      <td>4695</td>\n      <td>10484</td>\n      <td>8</td>\n      <td>6</td>\n      <td>0.004528</td>\n    </tr>\n  </tbody>\n</table>\n<p>74659 rows × 17 columns</p>\n</div>",
      "text/plain": "       bathrooms  bedrooms  building_id  created  \\\n0            1.0         1         4412        5   \n1            1.0         2            0        6   \n2            1.0         0            0        1   \n3            1.0         2         9082        5   \n4            1.0         1         4680        7   \n...          ...       ...          ...      ...   \n74654        1.0         1         6889       16   \n74655        1.0         2         5268        5   \n74656        1.0         0            0        1   \n74657        2.0         2         7301        2   \n74658        1.0         3          952        2   \n\n                                             description  display_address  \\\n0      Large with awesome terrace--accessible via bed...             9506   \n1      Prime Soho - between Bleecker and Houston - Ne...             9589   \n2      Spacious studio in Prime Location. Cleanbuildi...             9513   \n3      For immediate access call Bryan.<br /><br />Bo...             8437   \n4      Beautiful TRUE 1 bedroom in a luxury building ...             8016   \n...                                                  ...              ...   \n74654  BRAND NEW TO MARKET 1BDR \\r107TH AND LEXINGTON...             1336   \n74655  Convertible 2BR apartment features a brand new...             6755   \n74656  Let's get you in to see this $2,400/mo, recent...             8565   \n74657  CooperCooper.com :: Web ID #171357; Access 100...             9037   \n74658  New renovated Bright 3Br Murray Hill. 3 QUEEN ...             6769   \n\n                                                features  latitude  \\\n0      [Elevator, Laundry in Building, Laundry in Uni...   40.7185   \n1                  [Pre-War, Dogs Allowed, Cats Allowed]   40.7278   \n2                  [Pre-War, Dogs Allowed, Cats Allowed]   40.7260   \n3          [Hardwood Floors, Dogs Allowed, Cats Allowed]   40.7321   \n4      [Roof Deck, Doorman, Elevator, Fitness Center,...   40.7054   \n...                                                  ...       ...   \n74654                                                 []   40.7925   \n74655  [Doorman, Elevator, Laundry in Building, Dishw...   40.7456   \n74656                       [Dogs Allowed, Cats Allowed]   40.7416   \n74657    [Doorman, Elevator, Cats Allowed, Dogs Allowed]   40.7485   \n74658  [Garden/Patio, Laundry in Unit, Dishwasher, Ha...   40.7447   \n\n       listing_id  longitude  manager_id  \\\n0         7142618   -73.9865        2694   \n1         7210040   -74.0000        3145   \n2         7174566   -74.0026        3467   \n3         7191391   -74.0028        1007   \n4         7171695   -74.0095        2521   \n...           ...        ...         ...   \n74654     6928108   -73.9454        1068   \n74655     6906674   -73.9797         660   \n74656     6897967   -73.9829        3467   \n74657     6842183   -73.9800        1653   \n74658     6889319   -73.9741        3270   \n\n                                                  photos  price  \\\n0      [https://photos.renthop.com/2/7142618_1c45a2c8...   2950   \n1      [https://photos.renthop.com/2/7210040_d824cc71...   2850   \n2      [https://photos.renthop.com/2/7174566_ba3a35c5...   2295   \n3      [https://photos.renthop.com/2/7191391_8c2f2d49...   2900   \n4      [https://photos.renthop.com/2/7171695_089ffee2...   3254   \n...                                                  ...    ...   \n74654  [https://photos.renthop.com/2/6928108_231eb983...   1700   \n74655  [https://photos.renthop.com/2/6906674_9fe899a8...   4195   \n74656                                                 []   2400   \n74657  [https://photos.renthop.com/2/6842183_b1fe51f4...   6895   \n74658  [https://photos.renthop.com/2/6889319_79f186e7...   4695   \n\n       street_address  num_photos  num_features  Distance  \n0               18989           8             6  0.009618  \n1                4161           3             3  0.003860  \n2                1151           1             3  0.002421  \n3                6746           4             3  0.001676  \n4                4816           6            10  0.003956  \n...               ...         ...           ...       ...  \n74654            3248          10             0  0.027594  \n74655            2324           4             8  0.004159  \n74656           18762           0             2  0.005109  \n74657           12788           8             4  0.003601  \n74658           10484           8             6  0.004528  \n\n[74659 rows x 17 columns]"
     },
     "execution_count": 15,
     "metadata": {},
     "output_type": "execute_result"
    }
   ],
   "source": [
    "test = test.reset_index(drop=True)\n",
    "test"
   ]
  },
  {
   "cell_type": "code",
   "execution_count": 16,
   "metadata": {},
   "outputs": [],
   "source": [
    "feature_name = ['bathrooms',  'bedrooms','created', 'display_address', 'latitude', 'longitude', 'manager_id','price', 'num_photos', 'num_features','Distance']\n",
    "x = data[feature_name]\n",
    "y=data.interest_level"
   ]
  },
  {
   "cell_type": "code",
   "execution_count": 17,
   "metadata": {},
   "outputs": [
    {
     "data": {
      "text/plain": "DecisionTreeClassifier(ccp_alpha=0.0, class_weight=None, criterion='gini',\n                       max_depth=6, max_features=None, max_leaf_nodes=None,\n                       min_impurity_decrease=0.0, min_impurity_split=None,\n                       min_samples_leaf=1, min_samples_split=2,\n                       min_weight_fraction_leaf=0.0, presort='deprecated',\n                       random_state=None, splitter='best')"
     },
     "execution_count": 17,
     "metadata": {},
     "output_type": "execute_result"
    }
   ],
   "source": [
    "dtc = DecisionTreeClassifier(criterion='gini',max_depth = 6)\n",
    "dtc.fit(x,y)"
   ]
  },
  {
   "cell_type": "code",
   "execution_count": 18,
   "metadata": {},
   "outputs": [],
   "source": [
    "X_test = test[feature_name]"
   ]
  },
  {
   "cell_type": "code",
   "execution_count": 23,
   "metadata": {},
   "outputs": [],
   "source": [
    "y_pred = dtc.predict_proba(X_test)\n",
    "y_pred = pd.DataFrame(y_pred)\n",
    "y_pred.columns = [\"high\" ,\"low\",\"medium\"]"
   ]
  },
  {
   "cell_type": "code",
   "execution_count": 24,
   "metadata": {},
   "outputs": [],
   "source": [
    "sub = pd.DataFrame([])"
   ]
  },
  {
   "cell_type": "code",
   "execution_count": 25,
   "metadata": {},
   "outputs": [],
   "source": [
    "sub['listing_id'] = test['listing_id']\n",
    "sub['high'] = y_pred['high']\n",
    "sub['medium'] = y_pred['medium']\n",
    "sub['low'] = y_pred['low']"
   ]
  },
  {
   "cell_type": "code",
   "execution_count": 26,
   "metadata": {},
   "outputs": [],
   "source": [
    "sub.to_csv('dtc_test',index=False)"
   ]
  },
  {
   "cell_type": "code",
   "execution_count": null,
   "metadata": {},
   "outputs": [],
   "source": [
    "dtc =  LogisticRegression(penalty = 'l2', solver = 'newton-cg', multi_class ='multinomial', max_iter = 10000)\n",
    "dtc.fit(x,y)\n",
    "X_test = test[feature_name]\n",
    "y_pred = dtc.predict_proba(X_test)\n",
    "y_pred = pd.DataFrame(y_pred)\n",
    "y_pred.columns = [\"high\" ,\"low\",\"medium\"]\n",
    "sub = pd.DataFrame([])\n",
    "sub['listing_id'] = test['listing_id']\n",
    "sub['high'] = y_pred['high']\n",
    "sub['medium'] = y_pred['medium']\n",
    "sub['low'] = y_pred['low']\n",
    "sub.to_csv('dtc_test',index=False)"
   ]
  },
  {
   "cell_type": "code",
   "execution_count": 41,
   "metadata": {},
   "outputs": [],
   "source": [
    "feature_name = [ 'display_address', 'price']\n",
    "x = data[feature_name]\n",
    "y=data.interest_level\n",
    "X_test = test[feature_name]"
   ]
  },
  {
   "cell_type": "code",
   "execution_count": null,
   "metadata": {},
   "outputs": [],
   "source": [
    "dtc =  SVC(kernel='linear',probability=True)\n",
    "dtc.fit(x,y)\n",
    "X_test = test[feature_name]\n",
    "y_pred = dtc.predict_proba(X_test)\n",
    "y_pred = pd.DataFrame(y_pred)\n",
    "y_pred.columns = [\"high\" ,\"low\",\"medium\"]\n",
    "sub = pd.DataFrame([])\n",
    "sub['listing_id'] = test['listing_id']\n",
    "sub['high'] = y_pred['high']\n",
    "sub['medium'] = y_pred['medium']\n",
    "sub['low'] = y_pred['low']\n",
    "sub.to_csv('dtc_test',index=False)"
   ]
  }
 ]
}
